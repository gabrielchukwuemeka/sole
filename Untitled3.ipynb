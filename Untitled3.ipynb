{
  "nbformat": 4,
  "nbformat_minor": 0,
  "metadata": {
    "colab": {
      "provenance": [],
      "authorship_tag": "ABX9TyOx1f3bBA24mbXvrTwzFnLQ",
      "include_colab_link": true
    },
    "kernelspec": {
      "name": "python3",
      "display_name": "Python 3"
    },
    "language_info": {
      "name": "python"
    }
  },
  "cells": [
    {
      "cell_type": "markdown",
      "metadata": {
        "id": "view-in-github",
        "colab_type": "text"
      },
      "source": [
        "<a href=\"https://colab.research.google.com/github/gabrielchukwuemeka/sole/blob/main/Untitled3.ipynb\" target=\"_parent\"><img src=\"https://colab.research.google.com/assets/colab-badge.svg\" alt=\"Open In Colab\"/></a>"
      ]
    },
    {
      "cell_type": "code",
      "execution_count": null,
      "metadata": {
        "id": "5VaEyZ8RiAkp"
      },
      "outputs": [],
      "source": []
    },
    {
      "cell_type": "markdown",
      "source": [
        "Write a simple program that calculate the discount on an item.\n",
        "Users are only required to pass in the cost of the item and the discount given. Eg what is cost (enter the cost and the discount which is 10%"
      ],
      "metadata": {
        "id": "9Oky9hC6iBSo"
      }
    },
    {
      "cell_type": "code",
      "source": [],
      "metadata": {
        "id": "-FIm4UZqiIld"
      },
      "execution_count": null,
      "outputs": []
    },
    {
      "cell_type": "code",
      "source": [
        "def calculate_discount(cost, discount_percentage):\n",
        "    discount_amount = (discount_percentage / 100) * cost\n",
        "    final_price = cost - discount_amount\n",
        "    return discount_amount, final_price\n",
        "\n",
        "def main():\n",
        "    try:\n",
        "        cost = float(input(\"Enter the cost of the item: $\"))\n",
        "        discount_percentage = float(input(\"Enter the discount percentage: \"))\n",
        "\n",
        "        discount_amount, final_price = calculate_discount(cost, discount_percentage)\n",
        "\n",
        "        print(f\"\\nDiscount amount: ${discount_amount:.2f}\")\n",
        "        print(f\"Final price after discount: ${final_price:.2f}\")\n",
        "    except ValueError:\n",
        "        print(\"Invalid input. Please enter numerical values for cost and discount percentage.\")\n",
        "\n",
        "if __name__ == \"__main__\":\n",
        "    main()\n"
      ],
      "metadata": {
        "colab": {
          "base_uri": "https://localhost:8080/"
        },
        "id": "Cm-3ubt7iJV_",
        "outputId": "6d49dea2-eb08-47ed-ed96-358018ada11c"
      },
      "execution_count": 1,
      "outputs": [
        {
          "output_type": "stream",
          "name": "stdout",
          "text": [
            "Enter the cost of the item: $200\n",
            "Enter the discount percentage: 10\n",
            "\n",
            "Discount amount: $20.00\n",
            "Final price after discount: $180.00\n"
          ]
        }
      ]
    },
    {
      "cell_type": "code",
      "source": [],
      "metadata": {
        "id": "jm88GmgZiU1l"
      },
      "execution_count": 1,
      "outputs": []
    }
  ]
}